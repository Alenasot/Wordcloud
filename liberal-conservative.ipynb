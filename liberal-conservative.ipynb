{
 "cells": [
  {
   "cell_type": "code",
   "execution_count": 1,
   "id": "d70234ad",
   "metadata": {
    "_cell_guid": "b1076dfc-b9ad-4769-8c92-a6c4dae69d19",
    "_uuid": "8f2839f25d086af736a60e9eeb907d3b93b6e0e5",
    "execution": {
     "iopub.execute_input": "2022-05-19T07:45:53.212371Z",
     "iopub.status.busy": "2022-05-19T07:45:53.207383Z",
     "iopub.status.idle": "2022-05-19T07:45:53.225066Z",
     "shell.execute_reply": "2022-05-19T07:45:53.226147Z",
     "shell.execute_reply.started": "2022-05-19T07:42:52.271534Z"
    },
    "papermill": {
     "duration": 0.081694,
     "end_time": "2022-05-19T07:45:53.226740",
     "exception": false,
     "start_time": "2022-05-19T07:45:53.145046",
     "status": "completed"
    },
    "tags": []
   },
   "outputs": [
    {
     "name": "stdout",
     "output_type": "stream",
     "text": [
      "/kaggle/input/liberals-vs-conservatives-on-reddit-13000-posts/file_name.csv\n"
     ]
    }
   ],
   "source": [
    "# This Python 3 environment comes with many helpful analytics libraries installed\n",
    "# It is defined by the kaggle/python Docker image: https://github.com/kaggle/docker-python\n",
    "# For example, here's several helpful packages to load\n",
    "\n",
    "import numpy as np # linear algebra\n",
    "import pandas as pd # data processing, CSV file I/O (e.g. pd.read_csv)\n",
    "\n",
    "# Input data files are available in the read-only \"../input/\" directory\n",
    "# For example, running this (by clicking run or pressing Shift+Enter) will list all files under the input directory\n",
    "\n",
    "import os\n",
    "for dirname, _, filenames in os.walk('/kaggle/input'):\n",
    "    for filename in filenames:\n",
    "        print(os.path.join(dirname, filename))\n",
    "\n",
    "# You can write up to 20GB to the current directory (/kaggle/working/) that gets preserved as output when you create a version using \"Save & Run All\" \n",
    "# You can also write temporary files to /kaggle/temp/, but they won't be saved outside of the current session"
   ]
  },
  {
   "cell_type": "code",
   "execution_count": 2,
   "id": "9418cab8",
   "metadata": {
    "execution": {
     "iopub.execute_input": "2022-05-19T07:45:53.341889Z",
     "iopub.status.busy": "2022-05-19T07:45:53.341266Z",
     "iopub.status.idle": "2022-05-19T07:45:53.536704Z",
     "shell.execute_reply": "2022-05-19T07:45:53.535844Z",
     "shell.execute_reply.started": "2022-05-19T07:42:52.305484Z"
    },
    "papermill": {
     "duration": 0.251835,
     "end_time": "2022-05-19T07:45:53.536875",
     "exception": false,
     "start_time": "2022-05-19T07:45:53.285040",
     "status": "completed"
    },
    "tags": []
   },
   "outputs": [],
   "source": [
    "df = pd.read_csv('/kaggle/input/liberals-vs-conservatives-on-reddit-13000-posts/file_name.csv')"
   ]
  },
  {
   "cell_type": "code",
   "execution_count": 3,
   "id": "0357b375",
   "metadata": {
    "execution": {
     "iopub.execute_input": "2022-05-19T07:45:53.656783Z",
     "iopub.status.busy": "2022-05-19T07:45:53.656104Z",
     "iopub.status.idle": "2022-05-19T07:45:53.686671Z",
     "shell.execute_reply": "2022-05-19T07:45:53.686141Z",
     "shell.execute_reply.started": "2022-05-19T07:42:52.487972Z"
    },
    "papermill": {
     "duration": 0.094807,
     "end_time": "2022-05-19T07:45:53.686825",
     "exception": false,
     "start_time": "2022-05-19T07:45:53.592018",
     "status": "completed"
    },
    "tags": []
   },
   "outputs": [
    {
     "data": {
      "text/html": [
       "<div>\n",
       "<style scoped>\n",
       "    .dataframe tbody tr th:only-of-type {\n",
       "        vertical-align: middle;\n",
       "    }\n",
       "\n",
       "    .dataframe tbody tr th {\n",
       "        vertical-align: top;\n",
       "    }\n",
       "\n",
       "    .dataframe thead th {\n",
       "        text-align: right;\n",
       "    }\n",
       "</style>\n",
       "<table border=\"1\" class=\"dataframe\">\n",
       "  <thead>\n",
       "    <tr style=\"text-align: right;\">\n",
       "      <th></th>\n",
       "      <th>Title</th>\n",
       "      <th>Political Lean</th>\n",
       "      <th>Score</th>\n",
       "      <th>Id</th>\n",
       "      <th>Subreddit</th>\n",
       "      <th>URL</th>\n",
       "      <th>Num of Comments</th>\n",
       "      <th>Text</th>\n",
       "      <th>Date Created</th>\n",
       "    </tr>\n",
       "  </thead>\n",
       "  <tbody>\n",
       "    <tr>\n",
       "      <th>0</th>\n",
       "      <td>No matter who someone is, how they look like, ...</td>\n",
       "      <td>Liberal</td>\n",
       "      <td>1</td>\n",
       "      <td>t5fybt</td>\n",
       "      <td>socialism</td>\n",
       "      <td>https://v.redd.it/ng5fyl7hp2l81</td>\n",
       "      <td>0</td>\n",
       "      <td>NaN</td>\n",
       "      <td>1.646272e+09</td>\n",
       "    </tr>\n",
       "    <tr>\n",
       "      <th>1</th>\n",
       "      <td>Biden speech draws 38.2 million U.S. TV viewers</td>\n",
       "      <td>Liberal</td>\n",
       "      <td>6</td>\n",
       "      <td>t5fqdn</td>\n",
       "      <td>democrats</td>\n",
       "      <td>https://www.reuters.com/world/us/biden-speech-...</td>\n",
       "      <td>1</td>\n",
       "      <td>NaN</td>\n",
       "      <td>1.646271e+09</td>\n",
       "    </tr>\n",
       "    <tr>\n",
       "      <th>2</th>\n",
       "      <td>State of the union</td>\n",
       "      <td>Liberal</td>\n",
       "      <td>1</td>\n",
       "      <td>t5fj9a</td>\n",
       "      <td>DemocraticSocialism</td>\n",
       "      <td>https://www.reddit.com/r/DemocraticSocialism/c...</td>\n",
       "      <td>1</td>\n",
       "      <td>Who watched the state of the union last night ...</td>\n",
       "      <td>1.646270e+09</td>\n",
       "    </tr>\n",
       "    <tr>\n",
       "      <th>3</th>\n",
       "      <td>We Should Just Give Poor People Money</td>\n",
       "      <td>Liberal</td>\n",
       "      <td>7</td>\n",
       "      <td>t5f7n9</td>\n",
       "      <td>SocialDemocracy</td>\n",
       "      <td>https://youtu.be/a80kRjpubG0</td>\n",
       "      <td>3</td>\n",
       "      <td>NaN</td>\n",
       "      <td>1.646270e+09</td>\n",
       "    </tr>\n",
       "    <tr>\n",
       "      <th>4</th>\n",
       "      <td>Do it for the Dew</td>\n",
       "      <td>Liberal</td>\n",
       "      <td>6</td>\n",
       "      <td>t5es2c</td>\n",
       "      <td>democrats</td>\n",
       "      <td>https://i.redd.it/drmunn90f2l81.jpg</td>\n",
       "      <td>1</td>\n",
       "      <td>NaN</td>\n",
       "      <td>1.646268e+09</td>\n",
       "    </tr>\n",
       "    <tr>\n",
       "      <th>...</th>\n",
       "      <td>...</td>\n",
       "      <td>...</td>\n",
       "      <td>...</td>\n",
       "      <td>...</td>\n",
       "      <td>...</td>\n",
       "      <td>...</td>\n",
       "      <td>...</td>\n",
       "      <td>...</td>\n",
       "      <td>...</td>\n",
       "    </tr>\n",
       "    <tr>\n",
       "      <th>12849</th>\n",
       "      <td>Ron Paul’s Spirited Defense of WikiLeaks &amp; Fre...</td>\n",
       "      <td>Conservative</td>\n",
       "      <td>2</td>\n",
       "      <td>em7rm</td>\n",
       "      <td>anarchocapitalism</td>\n",
       "      <td>http://www.deathandtaxesmag.com/40485/ron-paul...</td>\n",
       "      <td>1</td>\n",
       "      <td>NaN</td>\n",
       "      <td>1.292421e+09</td>\n",
       "    </tr>\n",
       "    <tr>\n",
       "      <th>12850</th>\n",
       "      <td>“Anarcho-capitalism, in my opinion, is a doctr...</td>\n",
       "      <td>Conservative</td>\n",
       "      <td>2</td>\n",
       "      <td>ei98o</td>\n",
       "      <td>anarchocapitalism</td>\n",
       "      <td>http://www.pressaction.com/news/weblog/full_ar...</td>\n",
       "      <td>1</td>\n",
       "      <td>NaN</td>\n",
       "      <td>1.291813e+09</td>\n",
       "    </tr>\n",
       "    <tr>\n",
       "      <th>12851</th>\n",
       "      <td>Mises Wiki is a wiki project dedicated to the ...</td>\n",
       "      <td>Conservative</td>\n",
       "      <td>2</td>\n",
       "      <td>e6x22</td>\n",
       "      <td>anarchocapitalism</td>\n",
       "      <td>http://wiki.mises.org/wiki/Main_Page</td>\n",
       "      <td>0</td>\n",
       "      <td>NaN</td>\n",
       "      <td>1.289910e+09</td>\n",
       "    </tr>\n",
       "    <tr>\n",
       "      <th>12852</th>\n",
       "      <td>Fireman Protection Monopoly - Is This Failed C...</td>\n",
       "      <td>Conservative</td>\n",
       "      <td>2</td>\n",
       "      <td>e4vtd</td>\n",
       "      <td>anarchocapitalism</td>\n",
       "      <td>http://www.csmonitor.com/Business/Mises-Econom...</td>\n",
       "      <td>0</td>\n",
       "      <td>NaN</td>\n",
       "      <td>1.289524e+09</td>\n",
       "    </tr>\n",
       "    <tr>\n",
       "      <th>12853</th>\n",
       "      <td>Can this Wikipedia Article be Better Written?</td>\n",
       "      <td>Conservative</td>\n",
       "      <td>2</td>\n",
       "      <td>e00j6</td>\n",
       "      <td>anarchocapitalism</td>\n",
       "      <td>https://www.reddit.com/r/anarchocapitalism/com...</td>\n",
       "      <td>0</td>\n",
       "      <td>I go to the mises.org and listen to the writin...</td>\n",
       "      <td>1.288702e+09</td>\n",
       "    </tr>\n",
       "  </tbody>\n",
       "</table>\n",
       "<p>12854 rows × 9 columns</p>\n",
       "</div>"
      ],
      "text/plain": [
       "                                                   Title Political Lean  \\\n",
       "0      No matter who someone is, how they look like, ...        Liberal   \n",
       "1        Biden speech draws 38.2 million U.S. TV viewers        Liberal   \n",
       "2                                     State of the union        Liberal   \n",
       "3                  We Should Just Give Poor People Money        Liberal   \n",
       "4                                      Do it for the Dew        Liberal   \n",
       "...                                                  ...            ...   \n",
       "12849  Ron Paul’s Spirited Defense of WikiLeaks & Fre...   Conservative   \n",
       "12850  “Anarcho-capitalism, in my opinion, is a doctr...   Conservative   \n",
       "12851  Mises Wiki is a wiki project dedicated to the ...   Conservative   \n",
       "12852  Fireman Protection Monopoly - Is This Failed C...   Conservative   \n",
       "12853      Can this Wikipedia Article be Better Written?   Conservative   \n",
       "\n",
       "       Score      Id            Subreddit  \\\n",
       "0          1  t5fybt            socialism   \n",
       "1          6  t5fqdn            democrats   \n",
       "2          1  t5fj9a  DemocraticSocialism   \n",
       "3          7  t5f7n9      SocialDemocracy   \n",
       "4          6  t5es2c            democrats   \n",
       "...      ...     ...                  ...   \n",
       "12849      2   em7rm    anarchocapitalism   \n",
       "12850      2   ei98o    anarchocapitalism   \n",
       "12851      2   e6x22    anarchocapitalism   \n",
       "12852      2   e4vtd    anarchocapitalism   \n",
       "12853      2   e00j6    anarchocapitalism   \n",
       "\n",
       "                                                     URL  Num of Comments  \\\n",
       "0                        https://v.redd.it/ng5fyl7hp2l81                0   \n",
       "1      https://www.reuters.com/world/us/biden-speech-...                1   \n",
       "2      https://www.reddit.com/r/DemocraticSocialism/c...                1   \n",
       "3                           https://youtu.be/a80kRjpubG0                3   \n",
       "4                    https://i.redd.it/drmunn90f2l81.jpg                1   \n",
       "...                                                  ...              ...   \n",
       "12849  http://www.deathandtaxesmag.com/40485/ron-paul...                1   \n",
       "12850  http://www.pressaction.com/news/weblog/full_ar...                1   \n",
       "12851               http://wiki.mises.org/wiki/Main_Page                0   \n",
       "12852  http://www.csmonitor.com/Business/Mises-Econom...                0   \n",
       "12853  https://www.reddit.com/r/anarchocapitalism/com...                0   \n",
       "\n",
       "                                                    Text  Date Created  \n",
       "0                                                    NaN  1.646272e+09  \n",
       "1                                                    NaN  1.646271e+09  \n",
       "2      Who watched the state of the union last night ...  1.646270e+09  \n",
       "3                                                    NaN  1.646270e+09  \n",
       "4                                                    NaN  1.646268e+09  \n",
       "...                                                  ...           ...  \n",
       "12849                                                NaN  1.292421e+09  \n",
       "12850                                                NaN  1.291813e+09  \n",
       "12851                                                NaN  1.289910e+09  \n",
       "12852                                                NaN  1.289524e+09  \n",
       "12853  I go to the mises.org and listen to the writin...  1.288702e+09  \n",
       "\n",
       "[12854 rows x 9 columns]"
      ]
     },
     "execution_count": 3,
     "metadata": {},
     "output_type": "execute_result"
    }
   ],
   "source": [
    "df"
   ]
  },
  {
   "cell_type": "code",
   "execution_count": 4,
   "id": "8c8ca701",
   "metadata": {
    "execution": {
     "iopub.execute_input": "2022-05-19T07:45:53.809565Z",
     "iopub.status.busy": "2022-05-19T07:45:53.808885Z",
     "iopub.status.idle": "2022-05-19T07:45:53.817745Z",
     "shell.execute_reply": "2022-05-19T07:45:53.817171Z",
     "shell.execute_reply.started": "2022-05-19T07:42:52.526314Z"
    },
    "papermill": {
     "duration": 0.076547,
     "end_time": "2022-05-19T07:45:53.817885",
     "exception": false,
     "start_time": "2022-05-19T07:45:53.741338",
     "status": "completed"
    },
    "tags": []
   },
   "outputs": [
    {
     "data": {
      "text/plain": [
       "Title                  0\n",
       "Political Lean         0\n",
       "Score                  0\n",
       "Id                     0\n",
       "Subreddit              0\n",
       "URL                    0\n",
       "Num of Comments        0\n",
       "Text               10426\n",
       "Date Created           0\n",
       "dtype: int64"
      ]
     },
     "execution_count": 4,
     "metadata": {},
     "output_type": "execute_result"
    }
   ],
   "source": [
    "df.isnull().sum()"
   ]
  },
  {
   "cell_type": "code",
   "execution_count": 5,
   "id": "3ccb5338",
   "metadata": {
    "execution": {
     "iopub.execute_input": "2022-05-19T07:45:53.937310Z",
     "iopub.status.busy": "2022-05-19T07:45:53.936628Z",
     "iopub.status.idle": "2022-05-19T07:45:53.941116Z",
     "shell.execute_reply": "2022-05-19T07:45:53.940518Z",
     "shell.execute_reply.started": "2022-05-19T07:42:52.551392Z"
    },
    "papermill": {
     "duration": 0.069095,
     "end_time": "2022-05-19T07:45:53.941292",
     "exception": false,
     "start_time": "2022-05-19T07:45:53.872197",
     "status": "completed"
    },
    "tags": []
   },
   "outputs": [
    {
     "data": {
      "text/plain": [
       "Title               object\n",
       "Political Lean      object\n",
       "Score                int64\n",
       "Id                  object\n",
       "Subreddit           object\n",
       "URL                 object\n",
       "Num of Comments      int64\n",
       "Text                object\n",
       "Date Created       float64\n",
       "dtype: object"
      ]
     },
     "execution_count": 5,
     "metadata": {},
     "output_type": "execute_result"
    }
   ],
   "source": [
    "df.dtypes"
   ]
  },
  {
   "cell_type": "code",
   "execution_count": 6,
   "id": "73199deb",
   "metadata": {
    "execution": {
     "iopub.execute_input": "2022-05-19T07:45:54.060290Z",
     "iopub.status.busy": "2022-05-19T07:45:54.059251Z",
     "iopub.status.idle": "2022-05-19T07:45:54.070738Z",
     "shell.execute_reply": "2022-05-19T07:45:54.071419Z",
     "shell.execute_reply.started": "2022-05-19T07:42:52.560569Z"
    },
    "papermill": {
     "duration": 0.073821,
     "end_time": "2022-05-19T07:45:54.071638",
     "exception": false,
     "start_time": "2022-05-19T07:45:53.997817",
     "status": "completed"
    },
    "tags": []
   },
   "outputs": [],
   "source": [
    "df.Title = df.Title.astype('string')"
   ]
  },
  {
   "cell_type": "code",
   "execution_count": 7,
   "id": "94517852",
   "metadata": {
    "execution": {
     "iopub.execute_input": "2022-05-19T07:45:54.188147Z",
     "iopub.status.busy": "2022-05-19T07:45:54.187125Z",
     "iopub.status.idle": "2022-05-19T07:45:54.201260Z",
     "shell.execute_reply": "2022-05-19T07:45:54.201965Z",
     "shell.execute_reply.started": "2022-05-19T07:42:52.573791Z"
    },
    "papermill": {
     "duration": 0.07368,
     "end_time": "2022-05-19T07:45:54.202262",
     "exception": false,
     "start_time": "2022-05-19T07:45:54.128582",
     "status": "completed"
    },
    "tags": []
   },
   "outputs": [],
   "source": [
    "df[['Political Lean']] = df[['Political Lean']].astype('string')"
   ]
  },
  {
   "cell_type": "code",
   "execution_count": 8,
   "id": "f53a97b2",
   "metadata": {
    "execution": {
     "iopub.execute_input": "2022-05-19T07:45:54.318796Z",
     "iopub.status.busy": "2022-05-19T07:45:54.317819Z",
     "iopub.status.idle": "2022-05-19T07:45:54.337011Z",
     "shell.execute_reply": "2022-05-19T07:45:54.337567Z",
     "shell.execute_reply.started": "2022-05-19T07:42:52.589848Z"
    },
    "papermill": {
     "duration": 0.078892,
     "end_time": "2022-05-19T07:45:54.337770",
     "exception": false,
     "start_time": "2022-05-19T07:45:54.258878",
     "status": "completed"
    },
    "tags": []
   },
   "outputs": [],
   "source": [
    "df['text'] = df['Title'].str.split(',')"
   ]
  },
  {
   "cell_type": "code",
   "execution_count": 9,
   "id": "ee555bcb",
   "metadata": {
    "execution": {
     "iopub.execute_input": "2022-05-19T07:45:54.473704Z",
     "iopub.status.busy": "2022-05-19T07:45:54.472675Z",
     "iopub.status.idle": "2022-05-19T07:45:54.478924Z",
     "shell.execute_reply": "2022-05-19T07:45:54.479451Z",
     "shell.execute_reply.started": "2022-05-19T07:42:52.713531Z"
    },
    "papermill": {
     "duration": 0.085577,
     "end_time": "2022-05-19T07:45:54.479664",
     "exception": false,
     "start_time": "2022-05-19T07:45:54.394087",
     "status": "completed"
    },
    "tags": []
   },
   "outputs": [],
   "source": [
    "df.text = df.text.astype('string')"
   ]
  },
  {
   "cell_type": "code",
   "execution_count": 10,
   "id": "65ab34d5",
   "metadata": {
    "execution": {
     "iopub.execute_input": "2022-05-19T07:45:54.598897Z",
     "iopub.status.busy": "2022-05-19T07:45:54.598030Z",
     "iopub.status.idle": "2022-05-19T07:45:54.601523Z",
     "shell.execute_reply": "2022-05-19T07:45:54.602033Z",
     "shell.execute_reply.started": "2022-05-19T07:42:52.746898Z"
    },
    "papermill": {
     "duration": 0.067333,
     "end_time": "2022-05-19T07:45:54.602233",
     "exception": false,
     "start_time": "2022-05-19T07:45:54.534900",
     "status": "completed"
    },
    "tags": []
   },
   "outputs": [
    {
     "data": {
      "text/plain": [
       "Title               string\n",
       "Political Lean      string\n",
       "Score                int64\n",
       "Id                  object\n",
       "Subreddit           object\n",
       "URL                 object\n",
       "Num of Comments      int64\n",
       "Text                object\n",
       "Date Created       float64\n",
       "text                string\n",
       "dtype: object"
      ]
     },
     "execution_count": 10,
     "metadata": {},
     "output_type": "execute_result"
    }
   ],
   "source": [
    "df.dtypes"
   ]
  },
  {
   "cell_type": "code",
   "execution_count": 11,
   "id": "23e23b67",
   "metadata": {
    "execution": {
     "iopub.execute_input": "2022-05-19T07:45:54.717551Z",
     "iopub.status.busy": "2022-05-19T07:45:54.716625Z",
     "iopub.status.idle": "2022-05-19T07:45:54.735338Z",
     "shell.execute_reply": "2022-05-19T07:45:54.735808Z",
     "shell.execute_reply.started": "2022-05-19T07:42:52.765531Z"
    },
    "papermill": {
     "duration": 0.078239,
     "end_time": "2022-05-19T07:45:54.736028",
     "exception": false,
     "start_time": "2022-05-19T07:45:54.657789",
     "status": "completed"
    },
    "tags": []
   },
   "outputs": [
    {
     "data": {
      "text/html": [
       "<div>\n",
       "<style scoped>\n",
       "    .dataframe tbody tr th:only-of-type {\n",
       "        vertical-align: middle;\n",
       "    }\n",
       "\n",
       "    .dataframe tbody tr th {\n",
       "        vertical-align: top;\n",
       "    }\n",
       "\n",
       "    .dataframe thead th {\n",
       "        text-align: right;\n",
       "    }\n",
       "</style>\n",
       "<table border=\"1\" class=\"dataframe\">\n",
       "  <thead>\n",
       "    <tr style=\"text-align: right;\">\n",
       "      <th></th>\n",
       "      <th>Title</th>\n",
       "      <th>Political Lean</th>\n",
       "      <th>Score</th>\n",
       "      <th>Id</th>\n",
       "      <th>Subreddit</th>\n",
       "      <th>URL</th>\n",
       "      <th>Num of Comments</th>\n",
       "      <th>Text</th>\n",
       "      <th>Date Created</th>\n",
       "      <th>text</th>\n",
       "    </tr>\n",
       "  </thead>\n",
       "  <tbody>\n",
       "    <tr>\n",
       "      <th>0</th>\n",
       "      <td>No matter who someone is, how they look like, ...</td>\n",
       "      <td>Liberal</td>\n",
       "      <td>1</td>\n",
       "      <td>t5fybt</td>\n",
       "      <td>socialism</td>\n",
       "      <td>https://v.redd.it/ng5fyl7hp2l81</td>\n",
       "      <td>0</td>\n",
       "      <td>NaN</td>\n",
       "      <td>1.646272e+09</td>\n",
       "      <td>['No matter who someone is', ' how they look l...</td>\n",
       "    </tr>\n",
       "    <tr>\n",
       "      <th>1</th>\n",
       "      <td>Biden speech draws 38.2 million U.S. TV viewers</td>\n",
       "      <td>Liberal</td>\n",
       "      <td>6</td>\n",
       "      <td>t5fqdn</td>\n",
       "      <td>democrats</td>\n",
       "      <td>https://www.reuters.com/world/us/biden-speech-...</td>\n",
       "      <td>1</td>\n",
       "      <td>NaN</td>\n",
       "      <td>1.646271e+09</td>\n",
       "      <td>['Biden speech draws 38.2 million U.S. TV view...</td>\n",
       "    </tr>\n",
       "    <tr>\n",
       "      <th>2</th>\n",
       "      <td>State of the union</td>\n",
       "      <td>Liberal</td>\n",
       "      <td>1</td>\n",
       "      <td>t5fj9a</td>\n",
       "      <td>DemocraticSocialism</td>\n",
       "      <td>https://www.reddit.com/r/DemocraticSocialism/c...</td>\n",
       "      <td>1</td>\n",
       "      <td>Who watched the state of the union last night ...</td>\n",
       "      <td>1.646270e+09</td>\n",
       "      <td>['State of the union']</td>\n",
       "    </tr>\n",
       "    <tr>\n",
       "      <th>3</th>\n",
       "      <td>We Should Just Give Poor People Money</td>\n",
       "      <td>Liberal</td>\n",
       "      <td>7</td>\n",
       "      <td>t5f7n9</td>\n",
       "      <td>SocialDemocracy</td>\n",
       "      <td>https://youtu.be/a80kRjpubG0</td>\n",
       "      <td>3</td>\n",
       "      <td>NaN</td>\n",
       "      <td>1.646270e+09</td>\n",
       "      <td>['We Should Just Give Poor People Money']</td>\n",
       "    </tr>\n",
       "    <tr>\n",
       "      <th>4</th>\n",
       "      <td>Do it for the Dew</td>\n",
       "      <td>Liberal</td>\n",
       "      <td>6</td>\n",
       "      <td>t5es2c</td>\n",
       "      <td>democrats</td>\n",
       "      <td>https://i.redd.it/drmunn90f2l81.jpg</td>\n",
       "      <td>1</td>\n",
       "      <td>NaN</td>\n",
       "      <td>1.646268e+09</td>\n",
       "      <td>['Do it for the Dew']</td>\n",
       "    </tr>\n",
       "    <tr>\n",
       "      <th>5</th>\n",
       "      <td>Proposed Bill Would Allow Kids With Contagious...</td>\n",
       "      <td>Liberal</td>\n",
       "      <td>3</td>\n",
       "      <td>t5eqc6</td>\n",
       "      <td>progressive</td>\n",
       "      <td>https://www.newson6.com/story/621f8983241e3107...</td>\n",
       "      <td>5</td>\n",
       "      <td>NaN</td>\n",
       "      <td>1.646268e+09</td>\n",
       "      <td>['Proposed Bill Would Allow Kids With Contagio...</td>\n",
       "    </tr>\n",
       "    <tr>\n",
       "      <th>6</th>\n",
       "      <td>3 House Republicans voted against a bipartisan...</td>\n",
       "      <td>Liberal</td>\n",
       "      <td>11</td>\n",
       "      <td>t5eqa1</td>\n",
       "      <td>democrats</td>\n",
       "      <td>https://www.businessinsider.com/3-house-republ...</td>\n",
       "      <td>4</td>\n",
       "      <td>NaN</td>\n",
       "      <td>1.646268e+09</td>\n",
       "      <td>[\"3 House Republicans voted against a bipartis...</td>\n",
       "    </tr>\n",
       "    <tr>\n",
       "      <th>7</th>\n",
       "      <td>If you're bombing civilian targets, you're the...</td>\n",
       "      <td>Liberal</td>\n",
       "      <td>0</td>\n",
       "      <td>t5epal</td>\n",
       "      <td>alltheleft</td>\n",
       "      <td>https://i.redd.it/hjysdukbe2l81.png</td>\n",
       "      <td>2</td>\n",
       "      <td>NaN</td>\n",
       "      <td>1.646268e+09</td>\n",
       "      <td>[\"If you're bombing civilian targets\", \" you'r...</td>\n",
       "    </tr>\n",
       "    <tr>\n",
       "      <th>8</th>\n",
       "      <td>Every city have to government their resources ...</td>\n",
       "      <td>Liberal</td>\n",
       "      <td>0</td>\n",
       "      <td>t5ejvw</td>\n",
       "      <td>socialism</td>\n",
       "      <td>https://www.reddit.com/r/socialism/comments/t5...</td>\n",
       "      <td>2</td>\n",
       "      <td>NaN</td>\n",
       "      <td>1.646267e+09</td>\n",
       "      <td>['Every city have to government their resource...</td>\n",
       "    </tr>\n",
       "    <tr>\n",
       "      <th>9</th>\n",
       "      <td>Workers Behind First Union Push at an Amazon R...</td>\n",
       "      <td>Liberal</td>\n",
       "      <td>19</td>\n",
       "      <td>t5egv1</td>\n",
       "      <td>socialism</td>\n",
       "      <td>https://www.businessinsider.com/workers-first-...</td>\n",
       "      <td>0</td>\n",
       "      <td>NaN</td>\n",
       "      <td>1.646267e+09</td>\n",
       "      <td>['Workers Behind First Union Push at an Amazon...</td>\n",
       "    </tr>\n",
       "  </tbody>\n",
       "</table>\n",
       "</div>"
      ],
      "text/plain": [
       "                                               Title Political Lean  Score  \\\n",
       "0  No matter who someone is, how they look like, ...        Liberal      1   \n",
       "1    Biden speech draws 38.2 million U.S. TV viewers        Liberal      6   \n",
       "2                                 State of the union        Liberal      1   \n",
       "3              We Should Just Give Poor People Money        Liberal      7   \n",
       "4                                  Do it for the Dew        Liberal      6   \n",
       "5  Proposed Bill Would Allow Kids With Contagious...        Liberal      3   \n",
       "6  3 House Republicans voted against a bipartisan...        Liberal     11   \n",
       "7  If you're bombing civilian targets, you're the...        Liberal      0   \n",
       "8  Every city have to government their resources ...        Liberal      0   \n",
       "9  Workers Behind First Union Push at an Amazon R...        Liberal     19   \n",
       "\n",
       "       Id            Subreddit  \\\n",
       "0  t5fybt            socialism   \n",
       "1  t5fqdn            democrats   \n",
       "2  t5fj9a  DemocraticSocialism   \n",
       "3  t5f7n9      SocialDemocracy   \n",
       "4  t5es2c            democrats   \n",
       "5  t5eqc6          progressive   \n",
       "6  t5eqa1            democrats   \n",
       "7  t5epal           alltheleft   \n",
       "8  t5ejvw            socialism   \n",
       "9  t5egv1            socialism   \n",
       "\n",
       "                                                 URL  Num of Comments  \\\n",
       "0                    https://v.redd.it/ng5fyl7hp2l81                0   \n",
       "1  https://www.reuters.com/world/us/biden-speech-...                1   \n",
       "2  https://www.reddit.com/r/DemocraticSocialism/c...                1   \n",
       "3                       https://youtu.be/a80kRjpubG0                3   \n",
       "4                https://i.redd.it/drmunn90f2l81.jpg                1   \n",
       "5  https://www.newson6.com/story/621f8983241e3107...                5   \n",
       "6  https://www.businessinsider.com/3-house-republ...                4   \n",
       "7                https://i.redd.it/hjysdukbe2l81.png                2   \n",
       "8  https://www.reddit.com/r/socialism/comments/t5...                2   \n",
       "9  https://www.businessinsider.com/workers-first-...                0   \n",
       "\n",
       "                                                Text  Date Created  \\\n",
       "0                                                NaN  1.646272e+09   \n",
       "1                                                NaN  1.646271e+09   \n",
       "2  Who watched the state of the union last night ...  1.646270e+09   \n",
       "3                                                NaN  1.646270e+09   \n",
       "4                                                NaN  1.646268e+09   \n",
       "5                                                NaN  1.646268e+09   \n",
       "6                                                NaN  1.646268e+09   \n",
       "7                                                NaN  1.646268e+09   \n",
       "8                                                NaN  1.646267e+09   \n",
       "9                                                NaN  1.646267e+09   \n",
       "\n",
       "                                                text  \n",
       "0  ['No matter who someone is', ' how they look l...  \n",
       "1  ['Biden speech draws 38.2 million U.S. TV view...  \n",
       "2                             ['State of the union']  \n",
       "3          ['We Should Just Give Poor People Money']  \n",
       "4                              ['Do it for the Dew']  \n",
       "5  ['Proposed Bill Would Allow Kids With Contagio...  \n",
       "6  [\"3 House Republicans voted against a bipartis...  \n",
       "7  [\"If you're bombing civilian targets\", \" you'r...  \n",
       "8  ['Every city have to government their resource...  \n",
       "9  ['Workers Behind First Union Push at an Amazon...  "
      ]
     },
     "execution_count": 11,
     "metadata": {},
     "output_type": "execute_result"
    }
   ],
   "source": [
    "df.head(10)"
   ]
  },
  {
   "cell_type": "code",
   "execution_count": 12,
   "id": "b9f966c5",
   "metadata": {
    "execution": {
     "iopub.execute_input": "2022-05-19T07:45:54.852979Z",
     "iopub.status.busy": "2022-05-19T07:45:54.852026Z",
     "iopub.status.idle": "2022-05-19T07:45:54.865246Z",
     "shell.execute_reply": "2022-05-19T07:45:54.865801Z",
     "shell.execute_reply.started": "2022-05-19T07:42:52.796338Z"
    },
    "papermill": {
     "duration": 0.073523,
     "end_time": "2022-05-19T07:45:54.866019",
     "exception": false,
     "start_time": "2022-05-19T07:45:54.792496",
     "status": "completed"
    },
    "tags": []
   },
   "outputs": [
    {
     "data": {
      "text/plain": [
       "(8319, 10)"
      ]
     },
     "execution_count": 12,
     "metadata": {},
     "output_type": "execute_result"
    }
   ],
   "source": [
    "liberal_df = df.loc[df['Political Lean'] == \"Liberal\"]\n",
    "liberal_df.shape"
   ]
  },
  {
   "cell_type": "code",
   "execution_count": 13,
   "id": "ee99014a",
   "metadata": {
    "execution": {
     "iopub.execute_input": "2022-05-19T07:45:54.984259Z",
     "iopub.status.busy": "2022-05-19T07:45:54.983291Z",
     "iopub.status.idle": "2022-05-19T07:45:54.994842Z",
     "shell.execute_reply": "2022-05-19T07:45:54.995366Z",
     "shell.execute_reply.started": "2022-05-19T07:42:52.811866Z"
    },
    "papermill": {
     "duration": 0.072116,
     "end_time": "2022-05-19T07:45:54.995569",
     "exception": false,
     "start_time": "2022-05-19T07:45:54.923453",
     "status": "completed"
    },
    "tags": []
   },
   "outputs": [
    {
     "data": {
      "text/plain": [
       "(4535, 10)"
      ]
     },
     "execution_count": 13,
     "metadata": {},
     "output_type": "execute_result"
    }
   ],
   "source": [
    "conservative_df = df.loc[df['Political Lean'] == \"Conservative\"]\n",
    "conservative_df.shape"
   ]
  },
  {
   "cell_type": "markdown",
   "id": "a2227654",
   "metadata": {
    "papermill": {
     "duration": 0.057229,
     "end_time": "2022-05-19T07:45:55.111183",
     "exception": false,
     "start_time": "2022-05-19T07:45:55.053954",
     "status": "completed"
    },
    "tags": []
   },
   "source": [
    "#WordCloud of title for Conservative political lean"
   ]
  },
  {
   "cell_type": "markdown",
   "id": "563ad1d1",
   "metadata": {
    "papermill": {
     "duration": 0.059079,
     "end_time": "2022-05-19T07:45:55.228816",
     "exception": false,
     "start_time": "2022-05-19T07:45:55.169737",
     "status": "completed"
    },
    "tags": []
   },
   "source": [
    "#Text preprocessing"
   ]
  },
  {
   "cell_type": "code",
   "execution_count": 14,
   "id": "743fa8c7",
   "metadata": {
    "execution": {
     "iopub.execute_input": "2022-05-19T07:45:55.348792Z",
     "iopub.status.busy": "2022-05-19T07:45:55.347849Z",
     "iopub.status.idle": "2022-05-19T07:45:55.361090Z",
     "shell.execute_reply": "2022-05-19T07:45:55.361649Z",
     "shell.execute_reply.started": "2022-05-19T07:42:52.826753Z"
    },
    "papermill": {
     "duration": 0.074884,
     "end_time": "2022-05-19T07:45:55.361858",
     "exception": false,
     "start_time": "2022-05-19T07:45:55.286974",
     "status": "completed"
    },
    "tags": []
   },
   "outputs": [],
   "source": [
    "text_conservative = conservative_df.text.iloc[:].values\n",
    "text_c = ''\n",
    "text_c = text_c.join(text_conservative)"
   ]
  },
  {
   "cell_type": "code",
   "execution_count": 15,
   "id": "1e3cdbcc",
   "metadata": {
    "execution": {
     "iopub.execute_input": "2022-05-19T07:45:55.481947Z",
     "iopub.status.busy": "2022-05-19T07:45:55.480758Z",
     "iopub.status.idle": "2022-05-19T07:45:55.490482Z",
     "shell.execute_reply": "2022-05-19T07:45:55.491053Z",
     "shell.execute_reply.started": "2022-05-19T07:42:52.839588Z"
    },
    "papermill": {
     "duration": 0.07153,
     "end_time": "2022-05-19T07:45:55.491262",
     "exception": false,
     "start_time": "2022-05-19T07:45:55.419732",
     "status": "completed"
    },
    "tags": []
   },
   "outputs": [],
   "source": [
    "text_c = text_c.lower()"
   ]
  },
  {
   "cell_type": "code",
   "execution_count": 16,
   "id": "61ef55a7",
   "metadata": {
    "execution": {
     "iopub.execute_input": "2022-05-19T07:45:55.614320Z",
     "iopub.status.busy": "2022-05-19T07:45:55.613369Z",
     "iopub.status.idle": "2022-05-19T07:45:55.618885Z",
     "shell.execute_reply": "2022-05-19T07:45:55.619505Z",
     "shell.execute_reply.started": "2022-05-19T07:42:52.853455Z"
    },
    "papermill": {
     "duration": 0.067887,
     "end_time": "2022-05-19T07:45:55.619693",
     "exception": false,
     "start_time": "2022-05-19T07:45:55.551806",
     "status": "completed"
    },
    "tags": []
   },
   "outputs": [
    {
     "data": {
      "text/plain": [
       "'!\"#$%&\\'()*+,-./:;<=>?@[\\\\]^_`{|}~'"
      ]
     },
     "execution_count": 16,
     "metadata": {},
     "output_type": "execute_result"
    }
   ],
   "source": [
    "import string\n",
    "string.punctuation"
   ]
  },
  {
   "cell_type": "code",
   "execution_count": 17,
   "id": "acf71eec",
   "metadata": {
    "execution": {
     "iopub.execute_input": "2022-05-19T07:45:55.738183Z",
     "iopub.status.busy": "2022-05-19T07:45:55.736970Z",
     "iopub.status.idle": "2022-05-19T07:45:55.741114Z",
     "shell.execute_reply": "2022-05-19T07:45:55.741661Z",
     "shell.execute_reply.started": "2022-05-19T07:42:52.865778Z"
    },
    "papermill": {
     "duration": 0.064458,
     "end_time": "2022-05-19T07:45:55.741839",
     "exception": false,
     "start_time": "2022-05-19T07:45:55.677381",
     "status": "completed"
    },
    "tags": []
   },
   "outputs": [],
   "source": [
    "spec_chars = string.punctuation + '\\‘\\’\\”\\“\\—…'"
   ]
  },
  {
   "cell_type": "code",
   "execution_count": 18,
   "id": "8763e24f",
   "metadata": {
    "execution": {
     "iopub.execute_input": "2022-05-19T07:45:55.860600Z",
     "iopub.status.busy": "2022-05-19T07:45:55.859654Z",
     "iopub.status.idle": "2022-05-19T07:45:55.907893Z",
     "shell.execute_reply": "2022-05-19T07:45:55.907298Z",
     "shell.execute_reply.started": "2022-05-19T07:42:52.874616Z"
    },
    "papermill": {
     "duration": 0.108949,
     "end_time": "2022-05-19T07:45:55.908100",
     "exception": false,
     "start_time": "2022-05-19T07:45:55.799151",
     "status": "completed"
    },
    "tags": []
   },
   "outputs": [],
   "source": [
    "text_c = \"\".join([ch for ch in text_c if ch not in spec_chars])"
   ]
  },
  {
   "cell_type": "code",
   "execution_count": 19,
   "id": "e8b413ed",
   "metadata": {
    "execution": {
     "iopub.execute_input": "2022-05-19T07:45:56.034288Z",
     "iopub.status.busy": "2022-05-19T07:45:56.033564Z",
     "iopub.status.idle": "2022-05-19T07:45:56.035966Z",
     "shell.execute_reply": "2022-05-19T07:45:56.035343Z",
     "shell.execute_reply.started": "2022-05-19T07:42:52.928735Z"
    },
    "papermill": {
     "duration": 0.06876,
     "end_time": "2022-05-19T07:45:56.036153",
     "exception": false,
     "start_time": "2022-05-19T07:45:55.967393",
     "status": "completed"
    },
    "tags": []
   },
   "outputs": [],
   "source": [
    "import re\n",
    "text_c = re.sub('\\n', '', text_c)"
   ]
  },
  {
   "cell_type": "code",
   "execution_count": 20,
   "id": "869bef73",
   "metadata": {
    "execution": {
     "iopub.execute_input": "2022-05-19T07:45:56.157454Z",
     "iopub.status.busy": "2022-05-19T07:45:56.156748Z",
     "iopub.status.idle": "2022-05-19T07:45:56.159980Z",
     "shell.execute_reply": "2022-05-19T07:45:56.159462Z",
     "shell.execute_reply.started": "2022-05-19T07:42:52.935111Z"
    },
    "papermill": {
     "duration": 0.066136,
     "end_time": "2022-05-19T07:45:56.160217",
     "exception": false,
     "start_time": "2022-05-19T07:45:56.094081",
     "status": "completed"
    },
    "tags": []
   },
   "outputs": [],
   "source": [
    "def remove_chars_from_text_c(text_c, chars):\n",
    "    return \"\".join([ch for ch in text_c if ch not in chars])"
   ]
  },
  {
   "cell_type": "code",
   "execution_count": 21,
   "id": "7f9c4207",
   "metadata": {
    "execution": {
     "iopub.execute_input": "2022-05-19T07:45:56.286128Z",
     "iopub.status.busy": "2022-05-19T07:45:56.285418Z",
     "iopub.status.idle": "2022-05-19T07:45:56.322976Z",
     "shell.execute_reply": "2022-05-19T07:45:56.322379Z",
     "shell.execute_reply.started": "2022-05-19T07:42:52.946194Z"
    },
    "papermill": {
     "duration": 0.103866,
     "end_time": "2022-05-19T07:45:56.323189",
     "exception": false,
     "start_time": "2022-05-19T07:45:56.219323",
     "status": "completed"
    },
    "tags": []
   },
   "outputs": [],
   "source": [
    "text_c = remove_chars_from_text_c(text_c, spec_chars)"
   ]
  },
  {
   "cell_type": "code",
   "execution_count": 22,
   "id": "28b1bb14",
   "metadata": {
    "execution": {
     "iopub.execute_input": "2022-05-19T07:45:56.442218Z",
     "iopub.status.busy": "2022-05-19T07:45:56.441536Z",
     "iopub.status.idle": "2022-05-19T07:45:56.474400Z",
     "shell.execute_reply": "2022-05-19T07:45:56.474944Z",
     "shell.execute_reply.started": "2022-05-19T07:42:52.994177Z"
    },
    "papermill": {
     "duration": 0.093921,
     "end_time": "2022-05-19T07:45:56.475176",
     "exception": false,
     "start_time": "2022-05-19T07:45:56.381255",
     "status": "completed"
    },
    "tags": []
   },
   "outputs": [],
   "source": [
    "text_c = remove_chars_from_text_c(text_c, string.digits)"
   ]
  },
  {
   "cell_type": "code",
   "execution_count": 23,
   "id": "3b84d315",
   "metadata": {
    "execution": {
     "iopub.execute_input": "2022-05-19T07:45:56.595573Z",
     "iopub.status.busy": "2022-05-19T07:45:56.594842Z",
     "iopub.status.idle": "2022-05-19T07:45:58.480841Z",
     "shell.execute_reply": "2022-05-19T07:45:58.481405Z",
     "shell.execute_reply.started": "2022-05-19T07:42:53.032259Z"
    },
    "papermill": {
     "duration": 1.947346,
     "end_time": "2022-05-19T07:45:58.481617",
     "exception": false,
     "start_time": "2022-05-19T07:45:56.534271",
     "status": "completed"
    },
    "tags": []
   },
   "outputs": [],
   "source": [
    "from nltk.corpus import stopwords\n",
    "english_stopwords = stopwords.words('english')"
   ]
  },
  {
   "cell_type": "code",
   "execution_count": 24,
   "id": "a9f3b78e",
   "metadata": {
    "execution": {
     "iopub.execute_input": "2022-05-19T07:45:58.605708Z",
     "iopub.status.busy": "2022-05-19T07:45:58.603701Z",
     "iopub.status.idle": "2022-05-19T07:45:58.610199Z",
     "shell.execute_reply": "2022-05-19T07:45:58.610943Z",
     "shell.execute_reply.started": "2022-05-19T07:42:54.412012Z"
    },
    "papermill": {
     "duration": 0.07106,
     "end_time": "2022-05-19T07:45:58.611219",
     "exception": false,
     "start_time": "2022-05-19T07:45:58.540159",
     "status": "completed"
    },
    "tags": []
   },
   "outputs": [
    {
     "name": "stdout",
     "output_type": "stream",
     "text": [
      "179\n"
     ]
    }
   ],
   "source": [
    "print(len(english_stopwords))"
   ]
  },
  {
   "cell_type": "markdown",
   "id": "6db2b1ba",
   "metadata": {
    "papermill": {
     "duration": 0.062116,
     "end_time": "2022-05-19T07:45:58.740027",
     "exception": false,
     "start_time": "2022-05-19T07:45:58.677911",
     "status": "completed"
    },
    "tags": []
   },
   "source": [
    "#Text Tokenization"
   ]
  },
  {
   "cell_type": "code",
   "execution_count": 25,
   "id": "bcb9dff0",
   "metadata": {
    "execution": {
     "iopub.execute_input": "2022-05-19T07:45:58.861138Z",
     "iopub.status.busy": "2022-05-19T07:45:58.860446Z",
     "iopub.status.idle": "2022-05-19T07:45:59.403418Z",
     "shell.execute_reply": "2022-05-19T07:45:59.402807Z",
     "shell.execute_reply.started": "2022-05-19T07:42:54.418391Z"
    },
    "papermill": {
     "duration": 0.605692,
     "end_time": "2022-05-19T07:45:59.403563",
     "exception": false,
     "start_time": "2022-05-19T07:45:58.797871",
     "status": "completed"
    },
    "tags": []
   },
   "outputs": [],
   "source": [
    "from nltk import word_tokenize\n",
    "text_c_tokens = word_tokenize(text_c)"
   ]
  },
  {
   "cell_type": "code",
   "execution_count": 26,
   "id": "2b60942d",
   "metadata": {
    "execution": {
     "iopub.execute_input": "2022-05-19T07:45:59.527648Z",
     "iopub.status.busy": "2022-05-19T07:45:59.526976Z",
     "iopub.status.idle": "2022-05-19T07:45:59.531448Z",
     "shell.execute_reply": "2022-05-19T07:45:59.531922Z",
     "shell.execute_reply.started": "2022-05-19T07:42:54.968392Z"
    },
    "papermill": {
     "duration": 0.066954,
     "end_time": "2022-05-19T07:45:59.532125",
     "exception": false,
     "start_time": "2022-05-19T07:45:59.465171",
     "status": "completed"
    },
    "tags": []
   },
   "outputs": [],
   "source": [
    "import nltk\n",
    "text_c = nltk.Text(text_c_tokens)"
   ]
  },
  {
   "cell_type": "markdown",
   "id": "3fa38dc3",
   "metadata": {
    "papermill": {
     "duration": 0.057134,
     "end_time": "2022-05-19T07:45:59.647038",
     "exception": false,
     "start_time": "2022-05-19T07:45:59.589904",
     "status": "completed"
    },
    "tags": []
   },
   "source": [
    "#Calculation of the frequency of occurrence of words"
   ]
  },
  {
   "cell_type": "code",
   "execution_count": 27,
   "id": "593f8ad8",
   "metadata": {
    "execution": {
     "iopub.execute_input": "2022-05-19T07:45:59.773396Z",
     "iopub.status.busy": "2022-05-19T07:45:59.767284Z",
     "iopub.status.idle": "2022-05-19T07:45:59.833833Z",
     "shell.execute_reply": "2022-05-19T07:45:59.834364Z",
     "shell.execute_reply.started": "2022-05-19T07:42:54.974416Z"
    },
    "papermill": {
     "duration": 0.129686,
     "end_time": "2022-05-19T07:45:59.834569",
     "exception": false,
     "start_time": "2022-05-19T07:45:59.704883",
     "status": "completed"
    },
    "tags": []
   },
   "outputs": [
    {
     "data": {
      "text/plain": [
       "FreqDist({'the': 1704, 'to': 1452, 'of': 1158, 'and': 796, 'in': 790, 'a': 763, 'is': 682, 'for': 583, 'on': 571, 'with': 306, ...})"
      ]
     },
     "execution_count": 27,
     "metadata": {},
     "output_type": "execute_result"
    }
   ],
   "source": [
    "from nltk.probability import FreqDist\n",
    "fdist = FreqDist(text_c)\n",
    "fdist"
   ]
  },
  {
   "cell_type": "code",
   "execution_count": 28,
   "id": "cb7d4bc2",
   "metadata": {
    "execution": {
     "iopub.execute_input": "2022-05-19T07:45:59.969395Z",
     "iopub.status.busy": "2022-05-19T07:45:59.958235Z",
     "iopub.status.idle": "2022-05-19T07:46:00.054301Z",
     "shell.execute_reply": "2022-05-19T07:46:00.053615Z",
     "shell.execute_reply.started": "2022-05-19T07:42:55.047747Z"
    },
    "papermill": {
     "duration": 0.159979,
     "end_time": "2022-05-19T07:46:00.054470",
     "exception": false,
     "start_time": "2022-05-19T07:45:59.894491",
     "status": "completed"
    },
    "tags": []
   },
   "outputs": [],
   "source": [
    "text_c_tokens = [token.strip() for token in text_c_tokens if token not in english_stopwords]"
   ]
  },
  {
   "cell_type": "code",
   "execution_count": 29,
   "id": "d68723ea",
   "metadata": {
    "execution": {
     "iopub.execute_input": "2022-05-19T07:46:00.178488Z",
     "iopub.status.busy": "2022-05-19T07:46:00.177733Z",
     "iopub.status.idle": "2022-05-19T07:46:00.179740Z",
     "shell.execute_reply": "2022-05-19T07:46:00.180306Z",
     "shell.execute_reply.started": "2022-05-19T07:42:55.145209Z"
    },
    "papermill": {
     "duration": 0.066977,
     "end_time": "2022-05-19T07:46:00.180513",
     "exception": false,
     "start_time": "2022-05-19T07:46:00.113536",
     "status": "completed"
    },
    "tags": []
   },
   "outputs": [],
   "source": [
    "text_c = nltk.Text(text_c_tokens)"
   ]
  },
  {
   "cell_type": "code",
   "execution_count": 30,
   "id": "f9079c4f",
   "metadata": {
    "execution": {
     "iopub.execute_input": "2022-05-19T07:46:00.301679Z",
     "iopub.status.busy": "2022-05-19T07:46:00.300921Z",
     "iopub.status.idle": "2022-05-19T07:46:00.349805Z",
     "shell.execute_reply": "2022-05-19T07:46:00.349242Z",
     "shell.execute_reply.started": "2022-05-19T07:42:55.151698Z"
    },
    "papermill": {
     "duration": 0.110467,
     "end_time": "2022-05-19T07:46:00.349961",
     "exception": false,
     "start_time": "2022-05-19T07:46:00.239494",
     "status": "completed"
    },
    "tags": []
   },
   "outputs": [
    {
     "data": {
      "text/plain": [
       "[('trump', 257),\n",
       " ('biden', 223),\n",
       " ('ukraine', 208),\n",
       " ('us', 202),\n",
       " ('russia', 153),\n",
       " ('people', 138),\n",
       " ('capitalism', 129),\n",
       " ('would', 117),\n",
       " ('says', 112),\n",
       " ('new', 109)]"
      ]
     },
     "execution_count": 30,
     "metadata": {},
     "output_type": "execute_result"
    }
   ],
   "source": [
    "fdist_sw = FreqDist(text_c)\n",
    "fdist_sw.most_common(10)"
   ]
  },
  {
   "cell_type": "markdown",
   "id": "00a5e163",
   "metadata": {
    "papermill": {
     "duration": 0.059573,
     "end_time": "2022-05-19T07:46:00.469108",
     "exception": false,
     "start_time": "2022-05-19T07:46:00.409535",
     "status": "completed"
    },
    "tags": []
   },
   "source": [
    "#Building a wordcloud"
   ]
  },
  {
   "cell_type": "code",
   "execution_count": 31,
   "id": "8b72b56f",
   "metadata": {
    "execution": {
     "iopub.execute_input": "2022-05-19T07:46:00.592575Z",
     "iopub.status.busy": "2022-05-19T07:46:00.591926Z",
     "iopub.status.idle": "2022-05-19T07:46:00.649079Z",
     "shell.execute_reply": "2022-05-19T07:46:00.648431Z",
     "shell.execute_reply.started": "2022-05-19T07:42:55.205833Z"
    },
    "papermill": {
     "duration": 0.119796,
     "end_time": "2022-05-19T07:46:00.649245",
     "exception": false,
     "start_time": "2022-05-19T07:46:00.529449",
     "status": "completed"
    },
    "tags": []
   },
   "outputs": [],
   "source": [
    "from wordcloud import WordCloud\n",
    "import matplotlib.pyplot as plt\n",
    "%matplotlib inline"
   ]
  },
  {
   "cell_type": "code",
   "execution_count": 32,
   "id": "79c2c1e0",
   "metadata": {
    "execution": {
     "iopub.execute_input": "2022-05-19T07:46:00.776332Z",
     "iopub.status.busy": "2022-05-19T07:46:00.775646Z",
     "iopub.status.idle": "2022-05-19T07:46:00.791627Z",
     "shell.execute_reply": "2022-05-19T07:46:00.792140Z",
     "shell.execute_reply.started": "2022-05-19T07:42:55.253989Z"
    },
    "papermill": {
     "duration": 0.080732,
     "end_time": "2022-05-19T07:46:00.792390",
     "exception": false,
     "start_time": "2022-05-19T07:46:00.711658",
     "status": "completed"
    },
    "tags": []
   },
   "outputs": [],
   "source": [
    "text_raw = \" \".join(text_c)"
   ]
  },
  {
   "cell_type": "code",
   "execution_count": 33,
   "id": "fea6844a",
   "metadata": {
    "execution": {
     "iopub.execute_input": "2022-05-19T07:46:00.915107Z",
     "iopub.status.busy": "2022-05-19T07:46:00.914437Z",
     "iopub.status.idle": "2022-05-19T07:46:01.757369Z",
     "shell.execute_reply": "2022-05-19T07:46:01.756740Z",
     "shell.execute_reply.started": "2022-05-19T07:42:55.270119Z"
    },
    "papermill": {
     "duration": 0.905611,
     "end_time": "2022-05-19T07:46:01.757525",
     "exception": false,
     "start_time": "2022-05-19T07:46:00.851914",
     "status": "completed"
    },
    "tags": []
   },
   "outputs": [],
   "source": [
    "wordcloud = WordCloud().generate(text_raw)"
   ]
  },
  {
   "cell_type": "code",
   "execution_count": 34,
   "id": "bce589ef",
   "metadata": {
    "execution": {
     "iopub.execute_input": "2022-05-19T07:46:01.887283Z",
     "iopub.status.busy": "2022-05-19T07:46:01.886566Z",
     "iopub.status.idle": "2022-05-19T07:46:02.190761Z",
     "shell.execute_reply": "2022-05-19T07:46:02.191275Z",
     "shell.execute_reply.started": "2022-05-19T07:44:10.522773Z"
    },
    "papermill": {
     "duration": 0.373978,
     "end_time": "2022-05-19T07:46:02.191445",
     "exception": false,
     "start_time": "2022-05-19T07:46:01.817467",
     "status": "completed"
    },
    "tags": []
   },
   "outputs": [
    {
     "data": {
      "image/png": "[encoded data removed]",
      "text/plain": [
       "<Figure size 432x288 with 1 Axes>"
      ]
     },
     "metadata": {
      "needs_background": "light"
     },
     "output_type": "display_data"
    }
   ],
   "source": [
    "plt.imshow(wordcloud, interpolation='bilinear')\n",
    "plt.axis(\"off\")\n",
    "plt.title('Wordcloud of Conservative')\n",
    "plt.show()"
   ]
  },
  {
   "cell_type": "markdown",
   "id": "2d478dec",
   "metadata": {
    "papermill": {
     "duration": 0.061611,
     "end_time": "2022-05-19T07:46:02.315673",
     "exception": false,
     "start_time": "2022-05-19T07:46:02.254062",
     "status": "completed"
    },
    "tags": []
   },
   "source": [
    "#WordCloud of title for Liberal political lean"
   ]
  },
  {
   "cell_type": "code",
   "execution_count": 35,
   "id": "0b9444e1",
   "metadata": {
    "execution": {
     "iopub.execute_input": "2022-05-19T07:46:02.451752Z",
     "iopub.status.busy": "2022-05-19T07:46:02.451095Z",
     "iopub.status.idle": "2022-05-19T07:46:02.459105Z",
     "shell.execute_reply": "2022-05-19T07:46:02.459683Z",
     "shell.execute_reply.started": "2022-05-19T07:42:56.361535Z"
    },
    "papermill": {
     "duration": 0.081701,
     "end_time": "2022-05-19T07:46:02.459862",
     "exception": false,
     "start_time": "2022-05-19T07:46:02.378161",
     "status": "completed"
    },
    "tags": []
   },
   "outputs": [],
   "source": [
    "text_liberal = liberal_df.text.iloc[:].values\n",
    "text_l = ''\n",
    "text_l = text_l.join(text_liberal)"
   ]
  },
  {
   "cell_type": "code",
   "execution_count": 36,
   "id": "2d8dee06",
   "metadata": {
    "execution": {
     "iopub.execute_input": "2022-05-19T07:46:02.595463Z",
     "iopub.status.busy": "2022-05-19T07:46:02.594774Z",
     "iopub.status.idle": "2022-05-19T07:46:02.596753Z",
     "shell.execute_reply": "2022-05-19T07:46:02.597369Z",
     "shell.execute_reply.started": "2022-05-19T07:42:56.378659Z"
    },
    "papermill": {
     "duration": 0.075391,
     "end_time": "2022-05-19T07:46:02.597539",
     "exception": false,
     "start_time": "2022-05-19T07:46:02.522148",
     "status": "completed"
    },
    "tags": []
   },
   "outputs": [],
   "source": [
    "text_l = text_l.lower()"
   ]
  },
  {
   "cell_type": "code",
   "execution_count": 37,
   "id": "5783d590",
   "metadata": {
    "execution": {
     "iopub.execute_input": "2022-05-19T07:46:02.762520Z",
     "iopub.status.busy": "2022-05-19T07:46:02.725818Z",
     "iopub.status.idle": "2022-05-19T07:46:02.813268Z",
     "shell.execute_reply": "2022-05-19T07:46:02.813757Z",
     "shell.execute_reply.started": "2022-05-19T07:42:56.396071Z"
    },
    "papermill": {
     "duration": 0.154126,
     "end_time": "2022-05-19T07:46:02.813959",
     "exception": false,
     "start_time": "2022-05-19T07:46:02.659833",
     "status": "completed"
    },
    "tags": []
   },
   "outputs": [],
   "source": [
    "text_l = \"\".join([ch for ch in text_l if ch not in spec_chars])"
   ]
  },
  {
   "cell_type": "code",
   "execution_count": 38,
   "id": "d07f488f",
   "metadata": {
    "execution": {
     "iopub.execute_input": "2022-05-19T07:46:02.944578Z",
     "iopub.status.busy": "2022-05-19T07:46:02.943722Z",
     "iopub.status.idle": "2022-05-19T07:46:02.946184Z",
     "shell.execute_reply": "2022-05-19T07:46:02.945561Z",
     "shell.execute_reply.started": "2022-05-19T07:42:56.484963Z"
    },
    "papermill": {
     "duration": 0.069949,
     "end_time": "2022-05-19T07:46:02.946322",
     "exception": false,
     "start_time": "2022-05-19T07:46:02.876373",
     "status": "completed"
    },
    "tags": []
   },
   "outputs": [],
   "source": [
    "import re\n",
    "text_l = re.sub('\\n', '', text_l)"
   ]
  },
  {
   "cell_type": "code",
   "execution_count": 39,
   "id": "5fb7b88a",
   "metadata": {
    "execution": {
     "iopub.execute_input": "2022-05-19T07:46:03.077200Z",
     "iopub.status.busy": "2022-05-19T07:46:03.076527Z",
     "iopub.status.idle": "2022-05-19T07:46:03.079623Z",
     "shell.execute_reply": "2022-05-19T07:46:03.078952Z",
     "shell.execute_reply.started": "2022-05-19T07:42:56.492188Z"
    },
    "papermill": {
     "duration": 0.071423,
     "end_time": "2022-05-19T07:46:03.079764",
     "exception": false,
     "start_time": "2022-05-19T07:46:03.008341",
     "status": "completed"
    },
    "tags": []
   },
   "outputs": [],
   "source": [
    "def remove_chars_from_text_l(text_l, chars):\n",
    "    return \"\".join([ch for ch in text_l if ch not in chars])"
   ]
  },
  {
   "cell_type": "code",
   "execution_count": 40,
   "id": "96a52839",
   "metadata": {
    "execution": {
     "iopub.execute_input": "2022-05-19T07:46:03.212673Z",
     "iopub.status.busy": "2022-05-19T07:46:03.206959Z",
     "iopub.status.idle": "2022-05-19T07:46:03.281456Z",
     "shell.execute_reply": "2022-05-19T07:46:03.282011Z",
     "shell.execute_reply.started": "2022-05-19T07:42:56.502798Z"
    },
    "papermill": {
     "duration": 0.140683,
     "end_time": "2022-05-19T07:46:03.282226",
     "exception": false,
     "start_time": "2022-05-19T07:46:03.141543",
     "status": "completed"
    },
    "tags": []
   },
   "outputs": [],
   "source": [
    "text_l = remove_chars_from_text_l(text_l, spec_chars)"
   ]
  },
  {
   "cell_type": "code",
   "execution_count": 41,
   "id": "317a4dc5",
   "metadata": {
    "execution": {
     "iopub.execute_input": "2022-05-19T07:46:03.440485Z",
     "iopub.status.busy": "2022-05-19T07:46:03.408627Z",
     "iopub.status.idle": "2022-05-19T07:46:03.471813Z",
     "shell.execute_reply": "2022-05-19T07:46:03.472312Z",
     "shell.execute_reply.started": "2022-05-19T07:42:56.587023Z"
    },
    "papermill": {
     "duration": 0.128612,
     "end_time": "2022-05-19T07:46:03.472491",
     "exception": false,
     "start_time": "2022-05-19T07:46:03.343879",
     "status": "completed"
    },
    "tags": []
   },
   "outputs": [],
   "source": [
    "text_l = remove_chars_from_text_l(text_l, string.digits)"
   ]
  },
  {
   "cell_type": "code",
   "execution_count": 42,
   "id": "4fa1d7d7",
   "metadata": {
    "execution": {
     "iopub.execute_input": "2022-05-19T07:46:03.919007Z",
     "iopub.status.busy": "2022-05-19T07:46:03.902478Z",
     "iopub.status.idle": "2022-05-19T07:46:04.595368Z",
     "shell.execute_reply": "2022-05-19T07:46:04.594721Z",
     "shell.execute_reply.started": "2022-05-19T07:42:56.649748Z"
    },
    "papermill": {
     "duration": 1.061182,
     "end_time": "2022-05-19T07:46:04.595567",
     "exception": false,
     "start_time": "2022-05-19T07:46:03.534385",
     "status": "completed"
    },
    "tags": []
   },
   "outputs": [],
   "source": [
    "text_l_tokens = word_tokenize(text_l)"
   ]
  },
  {
   "cell_type": "code",
   "execution_count": 43,
   "id": "f17ae00f",
   "metadata": {
    "execution": {
     "iopub.execute_input": "2022-05-19T07:46:04.729141Z",
     "iopub.status.busy": "2022-05-19T07:46:04.728383Z",
     "iopub.status.idle": "2022-05-19T07:46:04.731250Z",
     "shell.execute_reply": "2022-05-19T07:46:04.730558Z",
     "shell.execute_reply.started": "2022-05-19T07:42:57.652326Z"
    },
    "papermill": {
     "duration": 0.071143,
     "end_time": "2022-05-19T07:46:04.731421",
     "exception": false,
     "start_time": "2022-05-19T07:46:04.660278",
     "status": "completed"
    },
    "tags": []
   },
   "outputs": [],
   "source": [
    "text_l = nltk.Text(text_l_tokens)"
   ]
  },
  {
   "cell_type": "code",
   "execution_count": 44,
   "id": "f214ac88",
   "metadata": {
    "execution": {
     "iopub.execute_input": "2022-05-19T07:46:04.862870Z",
     "iopub.status.busy": "2022-05-19T07:46:04.862129Z",
     "iopub.status.idle": "2022-05-19T07:46:04.986604Z",
     "shell.execute_reply": "2022-05-19T07:46:04.987122Z",
     "shell.execute_reply.started": "2022-05-19T07:42:57.658485Z"
    },
    "papermill": {
     "duration": 0.192809,
     "end_time": "2022-05-19T07:46:04.987339",
     "exception": false,
     "start_time": "2022-05-19T07:46:04.794530",
     "status": "completed"
    },
    "tags": []
   },
   "outputs": [
    {
     "data": {
      "text/plain": [
       "FreqDist({'the': 3872, 'to': 2870, 'of': 2399, 'in': 1846, 'a': 1834, 'and': 1810, 'for': 1236, 'is': 1115, 'on': 999, 'are': 576, ...})"
      ]
     },
     "execution_count": 44,
     "metadata": {},
     "output_type": "execute_result"
    }
   ],
   "source": [
    "fdist_l = FreqDist(text_l)\n",
    "fdist_l"
   ]
  },
  {
   "cell_type": "code",
   "execution_count": 45,
   "id": "6b9e67a9",
   "metadata": {
    "execution": {
     "iopub.execute_input": "2022-05-19T07:46:05.119884Z",
     "iopub.status.busy": "2022-05-19T07:46:05.119252Z",
     "iopub.status.idle": "2022-05-19T07:46:05.294514Z",
     "shell.execute_reply": "2022-05-19T07:46:05.293912Z",
     "shell.execute_reply.started": "2022-05-19T07:42:57.792232Z"
    },
    "papermill": {
     "duration": 0.241907,
     "end_time": "2022-05-19T07:46:05.294682",
     "exception": false,
     "start_time": "2022-05-19T07:46:05.052775",
     "status": "completed"
    },
    "tags": []
   },
   "outputs": [],
   "source": [
    "text_l_tokens = [token.strip() for token in text_l_tokens if token not in english_stopwords]"
   ]
  },
  {
   "cell_type": "code",
   "execution_count": 46,
   "id": "689d9f4e",
   "metadata": {
    "execution": {
     "iopub.execute_input": "2022-05-19T07:46:05.428426Z",
     "iopub.status.busy": "2022-05-19T07:46:05.427479Z",
     "iopub.status.idle": "2022-05-19T07:46:05.430348Z",
     "shell.execute_reply": "2022-05-19T07:46:05.429777Z",
     "shell.execute_reply.started": "2022-05-19T07:42:57.971761Z"
    },
    "papermill": {
     "duration": 0.072617,
     "end_time": "2022-05-19T07:46:05.430511",
     "exception": false,
     "start_time": "2022-05-19T07:46:05.357894",
     "status": "completed"
    },
    "tags": []
   },
   "outputs": [],
   "source": [
    "text_l = nltk.Text(text_l_tokens)"
   ]
  },
  {
   "cell_type": "code",
   "execution_count": 47,
   "id": "3d75e86c",
   "metadata": {
    "execution": {
     "iopub.execute_input": "2022-05-19T07:46:05.561177Z",
     "iopub.status.busy": "2022-05-19T07:46:05.560497Z",
     "iopub.status.idle": "2022-05-19T07:46:05.643865Z",
     "shell.execute_reply": "2022-05-19T07:46:05.643225Z",
     "shell.execute_reply.started": "2022-05-19T07:42:57.979534Z"
    },
    "papermill": {
     "duration": 0.150089,
     "end_time": "2022-05-19T07:46:05.644044",
     "exception": false,
     "start_time": "2022-05-19T07:46:05.493955",
     "status": "completed"
    },
    "tags": []
   },
   "outputs": [
    {
     "data": {
      "text/plain": [
       "[('us', 359),\n",
       " ('trump', 298),\n",
       " ('new', 262),\n",
       " ('people', 225),\n",
       " ('workers', 220),\n",
       " ('biden', 192),\n",
       " ('social', 192),\n",
       " ('democrats', 165),\n",
       " ('women', 164),\n",
       " ('says', 157)]"
      ]
     },
     "execution_count": 47,
     "metadata": {},
     "output_type": "execute_result"
    }
   ],
   "source": [
    "fdist_l_sw = FreqDist(text_l)\n",
    "fdist_l_sw.most_common(10)"
   ]
  },
  {
   "cell_type": "markdown",
   "id": "6a73c295",
   "metadata": {
    "papermill": {
     "duration": 0.063142,
     "end_time": "2022-05-19T07:46:05.771426",
     "exception": false,
     "start_time": "2022-05-19T07:46:05.708284",
     "status": "completed"
    },
    "tags": []
   },
   "source": [
    "building a word cloud"
   ]
  },
  {
   "cell_type": "code",
   "execution_count": 48,
   "id": "608b080d",
   "metadata": {
    "execution": {
     "iopub.execute_input": "2022-05-19T07:46:05.903767Z",
     "iopub.status.busy": "2022-05-19T07:46:05.903120Z",
     "iopub.status.idle": "2022-05-19T07:46:05.932426Z",
     "shell.execute_reply": "2022-05-19T07:46:05.932998Z",
     "shell.execute_reply.started": "2022-05-19T07:42:58.070886Z"
    },
    "papermill": {
     "duration": 0.096158,
     "end_time": "2022-05-19T07:46:05.933230",
     "exception": false,
     "start_time": "2022-05-19T07:46:05.837072",
     "status": "completed"
    },
    "tags": []
   },
   "outputs": [],
   "source": [
    "text_l_raw = \" \".join(text_l)"
   ]
  },
  {
   "cell_type": "code",
   "execution_count": 49,
   "id": "a516529a",
   "metadata": {
    "execution": {
     "iopub.execute_input": "2022-05-19T07:46:06.097718Z",
     "iopub.status.busy": "2022-05-19T07:46:06.096950Z",
     "iopub.status.idle": "2022-05-19T07:46:07.275707Z",
     "shell.execute_reply": "2022-05-19T07:46:07.276240Z",
     "shell.execute_reply.started": "2022-05-19T07:42:58.101750Z"
    },
    "papermill": {
     "duration": 1.279953,
     "end_time": "2022-05-19T07:46:07.276459",
     "exception": false,
     "start_time": "2022-05-19T07:46:05.996506",
     "status": "completed"
    },
    "tags": []
   },
   "outputs": [],
   "source": [
    "wordcloud_l = WordCloud().generate(text_l_raw)"
   ]
  },
  {
   "cell_type": "code",
   "execution_count": 50,
   "id": "32249bd0",
   "metadata": {
    "execution": {
     "iopub.execute_input": "2022-05-19T07:46:07.408622Z",
     "iopub.status.busy": "2022-05-19T07:46:07.407974Z",
     "iopub.status.idle": "2022-05-19T07:46:07.683079Z",
     "shell.execute_reply": "2022-05-19T07:46:07.683571Z",
     "shell.execute_reply.started": "2022-05-19T07:42:59.255032Z"
    },
    "papermill": {
     "duration": 0.343818,
     "end_time": "2022-05-19T07:46:07.683739",
     "exception": false,
     "start_time": "2022-05-19T07:46:07.339921",
     "status": "completed"
    },
    "tags": []
   },
   "outputs": [
    {
     "data": {
      "image/png": "[encoded data removed]",
      "text/plain": [
       "<Figure size 432x288 with 1 Axes>"
      ]
     },
     "metadata": {
      "needs_background": "light"
     },
     "output_type": "display_data"
    }
   ],
   "source": [
    "plt.imshow(wordcloud_l, interpolation='bilinear')\n",
    "plt.axis(\"off\")\n",
    "plt.title('Wordcloud of Liberal')\n",
    "plt.show()"
   ]
  }
 ],
 "metadata": {
  "kernelspec": {
   "display_name": "Python 3",
   "language": "python",
   "name": "python3"
  },
  "language_info": {
   "codemirror_mode": {
    "name": "ipython",
    "version": 3
   },
   "file_extension": ".py",
   "mimetype": "text/x-python",
   "name": "python",
   "nbconvert_exporter": "python",
   "pygments_lexer": "ipython3",
   "version": "3.7.12"
  },
  "papermill": {
   "default_parameters": {},
   "duration": 26.751949,
   "end_time": "2022-05-19T07:46:08.763352",
   "environment_variables": {},
   "exception": null,
   "input_path": "__notebook__.ipynb",
   "output_path": "__notebook__.ipynb",
   "parameters": {},
   "start_time": "2022-05-19T07:45:42.011403",
   "version": "2.3.3"
  }
 },
 "nbformat": 4,
 "nbformat_minor": 5
}
